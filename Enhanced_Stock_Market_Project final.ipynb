{
 "cells": [
  {
   "cell_type": "markdown",
   "id": "e87cd313",
   "metadata": {},
   "source": [
    "# 📊 Predictive Analytics for Stock Market Trends\n",
    "\n",
    "This project aims to predict the direction of stock price movement (up or down) for Apple Inc. using historical price-based features. We use data from Yahoo Finance and apply logistic regression to make binary predictions."
   ]
  },
  {
   "cell_type": "markdown",
   "id": "967f07f0",
   "metadata": {},
   "source": [
    "## Step 1: Import Libraries"
   ]
  },
  {
   "cell_type": "code",
   "execution_count": null,
   "id": "d643c96b",
   "metadata": {},
   "outputs": [],
   "source": [
    "import pandas as pd\n",
    "import numpy as np\n",
    "import matplotlib.pyplot as plt\n",
    "import seaborn as sns\n",
    "import yfinance as yf\n",
    "from sklearn.model_selection import train_test_split\n",
    "from sklearn.linear_model import LogisticRegression\n",
    "from sklearn.metrics import confusion_matrix, accuracy_score, classification_report\n",
    "import warnings\n",
    "warnings.filterwarnings('ignore')"
   ]
  },
  {
   "cell_type": "markdown",
   "id": "884fd770",
   "metadata": {},
   "source": [
    "## Step 2: Import Stock Market Data"
   ]
  },
  {
   "cell_type": "code",
   "execution_count": null,
   "id": "613b7bf0",
   "metadata": {},
   "outputs": [],
   "source": [
    "data = yf.download('AAPL', start='2018-01-01', end='2023-12-31')\n",
    "data.reset_index(inplace=True)\n",
    "data.head()"
   ]
  },
  {
   "cell_type": "markdown",
   "id": "94632c60",
   "metadata": {},
   "source": [
    "## Step 3: Exploratory Data Analysis (EDA)"
   ]
  },
  {
   "cell_type": "code",
   "execution_count": null,
   "id": "7ec15c88",
   "metadata": {},
   "outputs": [],
   "source": [
    "data.info()"
   ]
  },
  {
   "cell_type": "code",
   "execution_count": null,
   "id": "909719f6",
   "metadata": {},
   "outputs": [],
   "source": [
    "data.describe()"
   ]
  },
  {
   "cell_type": "code",
   "execution_count": null,
   "id": "c8b0e55c",
   "metadata": {},
   "outputs": [],
   "source": [
    "plt.figure(figsize=(12, 6))\n",
    "plt.plot(data['Date'], data['Close'], label='Close Price')\n",
    "plt.title('AAPL Closing Price Over Time')\n",
    "plt.xlabel('Date')\n",
    "plt.ylabel('Close Price (USD)')\n",
    "plt.legend()\n",
    "plt.grid()\n",
    "plt.show()"
   ]
  },
  {
   "cell_type": "markdown",
   "id": "1f5ae4ff",
   "metadata": {},
   "source": [
    "## Step 4: Feature Engineering"
   ]
  },
  {
   "cell_type": "code",
   "execution_count": null,
   "id": "e122099e",
   "metadata": {},
   "outputs": [],
   "source": [
    "data['Target'] = (data['Close'].shift(-1) > data['Close']).astype(int)\n",
    "data['MA10'] = data['Close'].rolling(window=10).mean()\n",
    "data['MA50'] = data['Close'].rolling(window=50).mean()\n",
    "data['Volatility'] = data['Close'].rolling(window=10).std()\n",
    "data['Daily Return'] = data['Close'].pct_change()\n",
    "data.dropna(inplace=True)\n",
    "X = data[['Close', 'MA10', 'MA50', 'Volatility', 'Daily Return']]\n",
    "y = data['Target']"
   ]
  },
  {
   "cell_type": "markdown",
   "id": "b66ec488",
   "metadata": {},
   "source": [
    "## Step 5: Train-Test Split"
   ]
  },
  {
   "cell_type": "code",
   "execution_count": null,
   "id": "41abee15",
   "metadata": {},
   "outputs": [],
   "source": [
    "X_train, X_test, y_train, y_test = train_test_split(X, y, train_size=0.7, random_state=42)\n",
    "X_train.shape, X_test.shape"
   ]
  },
  {
   "cell_type": "markdown",
   "id": "2510c638",
   "metadata": {},
   "source": [
    "## Step 6: Model Selection and Training"
   ]
  },
  {
   "cell_type": "code",
   "execution_count": null,
   "id": "01890a47",
   "metadata": {},
   "outputs": [],
   "source": [
    "model = LogisticRegression()\n",
    "model.fit(X_train, y_train)"
   ]
  },
  {
   "cell_type": "markdown",
   "id": "84cca7a0",
   "metadata": {},
   "source": [
    "## Step 7: Model Coefficients"
   ]
  },
  {
   "cell_type": "code",
   "execution_count": null,
   "id": "9e324b2c",
   "metadata": {},
   "outputs": [],
   "source": [
    "print(\"Intercept:\", model.intercept_)\n",
    "print(\"Coefficients:\", model.coef_)"
   ]
  },
  {
   "cell_type": "markdown",
   "id": "6508a29c",
   "metadata": {},
   "source": [
    "## Step 8: Make Predictions"
   ]
  },
  {
   "cell_type": "code",
   "execution_count": null,
   "id": "114c18bc",
   "metadata": {},
   "outputs": [],
   "source": [
    "y_pred = model.predict(X_test)\n",
    "y_pred[:10]"
   ]
  },
  {
   "cell_type": "markdown",
   "id": "2d11b05e",
   "metadata": {},
   "source": [
    "## Step 9: Model Evaluation"
   ]
  },
  {
   "cell_type": "code",
   "execution_count": null,
   "id": "758b0596",
   "metadata": {},
   "outputs": [],
   "source": [
    "conf_matrix = confusion_matrix(y_test, y_pred)\n",
    "acc_score = accuracy_score(y_test, y_pred)\n",
    "class_report = classification_report(y_test, y_pred)\n",
    "\n",
    "print(\"Confusion Matrix:\\n\", conf_matrix)\n",
    "print(\"\\nAccuracy Score:\", acc_score)\n",
    "print(\"\\nClassification Report:\\n\", class_report)"
   ]
  },
  {
   "cell_type": "markdown",
   "id": "36ba52a1",
   "metadata": {},
   "source": [
    "## Step 10: Visualization of Feature Correlations"
   ]
  },
  {
   "cell_type": "code",
   "execution_count": null,
   "id": "0945b57d",
   "metadata": {},
   "outputs": [],
   "source": [
    "plt.figure(figsize=(10, 6))\n",
    "sns.heatmap(data[['Close', 'MA10', 'MA50', 'Volatility', 'Daily Return', 'Target']].corr(), annot=True, cmap='coolwarm')\n",
    "plt.title('Correlation Heatmap')\n",
    "plt.show()"
   ]
  },
  {
   "cell_type": "markdown",
   "id": "9ca36c54",
   "metadata": {},
   "source": [
    "## 📌 Summary\n",
    "\n",
    "- Used 5 years of AAPL stock data.\n",
    "- Engineered features like Moving Averages, Volatility, and Daily Return.\n",
    "- Trained Logistic Regression to predict whether stock will go up the next day.\n",
    "- Achieved accuracy of ~XX% (depending on data).\n",
    "- Future improvements could include using LSTM, news sentiment, and macroeconomic data."
   ]
  }
 ],
 "metadata": {},
 "nbformat": 4,
 "nbformat_minor": 5
}